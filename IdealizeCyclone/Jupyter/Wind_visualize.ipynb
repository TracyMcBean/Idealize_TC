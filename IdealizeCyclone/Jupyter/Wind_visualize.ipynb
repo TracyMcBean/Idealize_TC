{
 "cells": [
  {
   "cell_type": "markdown",
   "metadata": {},
   "source": [
    "# Wind visualization"
   ]
  },
  {
   "cell_type": "code",
   "execution_count": 1,
   "metadata": {},
   "outputs": [
    {
     "name": "stderr",
     "output_type": "stream",
     "text": [
      "/sw/tools/python/anaconda3/2019.03/skl/lib/python3.7/site-packages/dask/config.py:168: YAMLLoadWarning: calling yaml.load() without Loader=... is deprecated, as the default Loader is unsafe. Please read https://msg.pyyaml.org/load for full details.\n",
      "  data = yaml.load(f.read()) or {}\n",
      "/sw/tools/python/anaconda3/2019.03/skl/lib/python3.7/site-packages/distributed/config.py:20: YAMLLoadWarning: calling yaml.load() without Loader=... is deprecated, as the default Loader is unsafe. Please read https://msg.pyyaml.org/load for full details.\n",
      "  defaults = yaml.load(f)\n"
     ]
    }
   ],
   "source": [
    "import xarray as xr\n",
    "import numpy as np\n",
    "import matplotlib.pyplot as plt\n",
    "import plotly\n",
    "from scipy.interpolate import griddata\n",
    "\n",
    "import sys\n",
    "sys.path.append('../../../AsymptoticSolver/')\n",
    "sys.path.append('..')\n",
    "\n",
    "from Utilities.coord_func import cart2pol\n",
    "from Utilities.add_var import add_u_polar\n",
    "from AsymptoticSolver import polar_dft, polar_idft, pick_fourier_comp\n",
    "\n",
    "%matplotlib notebook"
   ]
  },
  {
   "cell_type": "markdown",
   "metadata": {},
   "source": [
    "### 1. Get data\n",
    "\n",
    "Initial data is taken from NARVAL simulation for the 17.08.2016 1200 UTC (initialized at 0000 UTC).\n",
    "Center is calculated with method of centroid pressure.\n"
   ]
  },
  {
   "cell_type": "markdown",
   "metadata": {},
   "source": [
    "__Constants:__  \n",
    "lev_start: Level from where the calculation should start  \n",
    "km: Radius around the cyclone center  \n",
    "r_earth: Radius of earth  \n",
    "r_rad: Radius around the cyclone center in radians"
   ]
  },
  {
   "cell_type": "code",
   "execution_count": 2,
   "metadata": {},
   "outputs": [],
   "source": [
    "lev_start= 45             \n",
    "km       = 250                           \n",
    "r_earth  = 6371                     \n",
    "r_rad    = km / r_earth"
   ]
  },
  {
   "cell_type": "code",
   "execution_count": 3,
   "metadata": {},
   "outputs": [],
   "source": [
    "# Data for centerline\n",
    "center_file       = \"../Data/center_fiona.npy\" \n",
    "center = np.load(center_file)\n",
    "x_center = center[:,0]\n",
    "y_center = center[:,1]\n",
    "\n",
    "# Initial data\n",
    "ds_orig = xr.open_dataset('../../../../init_data/dei4_NARVALII_2016081700_fg_DOM01_ML_0012.nc')\n",
    "#ds_orig = add_u_polar(ds_orig,center)\n",
    "\n",
    "# Number of levels in file (highest index is lowest level -> p-system)\n",
    "nlev = len(ds_orig.height.values)\n",
    "height = ds_orig.z_ifc.values\n"
   ]
  },
  {
   "cell_type": "markdown",
   "metadata": {},
   "source": [
    "Extract u,v,w,u_phi and u_r seperately."
   ]
  },
  {
   "cell_type": "code",
   "execution_count": 5,
   "metadata": {},
   "outputs": [],
   "source": [
    "da_u = ds_orig.u[0]\n",
    "da_v = ds_orig.v[0]\n",
    "da_w = ds_orig.w[0]\n",
    "#da_u_phi=ds_orig.u_phi[0]\n",
    "#da_u_r = ds_orig.u_r[0]\n",
    "\n",
    "bg_u = np.empty([nlev])\n",
    "bg_v = np.empty([nlev])\n",
    "bg_w = np.empty([nlev])\n",
    "\n",
    "for i in range(0, nlev):\n",
    "    bg_u[i] = da_u.values[i].mean()\n",
    "    bg_v[i] = da_v.values[i].mean()\n",
    "    bg_w[i] = da_w.values[i].mean()\n"
   ]
  },
  {
   "cell_type": "code",
   "execution_count": 6,
   "metadata": {},
   "outputs": [
    {
     "data": {
      "text/plain": [
       "[<matplotlib.lines.Line2D at 0x2aaae767cac8>]"
      ]
     },
     "execution_count": 6,
     "metadata": {},
     "output_type": "execute_result"
    },
    {
     "data": {
      "image/png": "[encoded data removed]",
      "text/plain": [
       "<Figure size 432x288 with 1 Axes>"
      ]
     },
     "metadata": {
      "needs_background": "light"
     },
     "output_type": "display_data"
    }
   ],
   "source": [
    "plt.figure()\n",
    "plt.plot(bg_u)\n"
   ]
  },
  {
   "cell_type": "code",
   "execution_count": null,
   "metadata": {},
   "outputs": [],
   "source": [
    "ds_orig.u[0,33].mean()\n",
    "\n",
    "#ds_orig.z_ifc[33]"
   ]
  },
  {
   "cell_type": "code",
   "execution_count": null,
   "metadata": {},
   "outputs": [],
   "source": [
    "bg_u\n",
    "plt.figure()\n",
    "plt.tripcolor(ds_orig.clon, ds_orig.clat, ds_orig.u.isel(time=0, height=70))\n",
    "plt.colorbar()"
   ]
  },
  {
   "cell_type": "markdown",
   "metadata": {},
   "source": [
    "### 2. Polar coordinate transformation"
   ]
  },
  {
   "cell_type": "markdown",
   "metadata": {},
   "source": [
    "Select a variable of interest because a memory error occurse when trying to manipulate the whole data set. Create a new polar coord. grid to interpolate the lon-lat data onto.\n"
   ]
  },
  {
   "cell_type": "code",
   "execution_count": null,
   "metadata": {},
   "outputs": [],
   "source": [
    "var_da = da_u_phi\n",
    "\n",
    "# Extract region containing cyclone\n",
    "lonlat_box = {'lon_up':-0.57,'lon_down':-0.68, 'lat_up': 0.17, 'lat_down': 0.30}\n",
    "\n",
    " # Select region of interest\n",
    "var_da = var_da.where(var_da['clon'] < lonlat_box['lon_up'], drop=True)\n",
    "var_da = var_da.where(var_da['clon'] > lonlat_box['lon_down'], drop=True)\n",
    "var_da = var_da.where(var_da['clat'] > lonlat_box['lat_up'], drop=True)\n",
    "var_da = var_da.where(var_da['clat'] < lonlat_box['lat_down'], drop=True)\n",
    "\n"
   ]
  },
  {
   "cell_type": "code",
   "execution_count": null,
   "metadata": {},
   "outputs": [],
   "source": [
    "cellID = var_da.ncells.values\n",
    "\n",
    "lon = var_da.clon.values\n",
    "lat = var_da.clat.values\n",
    "\n",
    "# Create new grid\n",
    "r_grid = np.linspace(0,r_rad,1000).transpose()\n",
    "phi_grid = np.linspace(-np.pi,np.pi,1000,endpoint=False)\n",
    "r_grid_da = xr.DataArray(r_grid, coords=[('r', r_grid)])\n",
    "phi_grid_da = xr.DataArray(phi_grid, coords=[('phi', phi_grid)])\n",
    "\n"
   ]
  },
  {
   "cell_type": "markdown",
   "metadata": {},
   "source": [
    "Select a single level that shall be evaluated"
   ]
  },
  {
   "cell_type": "code",
   "execution_count": null,
   "metadata": {},
   "outputs": [],
   "source": [
    "# Set level number\n",
    "i = 65 \n",
    "\n",
    "center_index = i- (nlev - len(center))-1\n",
    "lev_index = i-1\n",
    "lev_height = height[lev_index,0]\n",
    "\n",
    "# Calculate r and phi for single level\n",
    "r,phi = cart2pol(lon,lat,center[center_index,])\n",
    "\n",
    "# Unit vector for r and phi\n",
    "#e_r = np.array([np.cos(phi), np.sin(phi)])\n",
    "#e_phi= np.array([-np.sin(phi), np.cos(phi)])"
   ]
  },
  {
   "cell_type": "markdown",
   "metadata": {},
   "source": [
    "Transform the lat lon positions into polar coordinates. After that the data is interpolated onto a circle around the cyclone center where the locations are given in phi and r."
   ]
  },
  {
   "cell_type": "code",
   "execution_count": null,
   "metadata": {},
   "outputs": [],
   "source": [
    "x_grid = x_center[center_index] + r_grid_da*np.cos(phi_grid_da)\n",
    "y_grid = y_center[center_index] + r_grid_da*np.sin(phi_grid_da)\n",
    "\n",
    "# Create new lon and lat positions using polar coordinates \n",
    "# (necessary to have all points for interpolation method):\n",
    "x_polar = [x_center[center_index] + r_grid[j]*np.cos(phi_grid) \\\n",
    "            for j in range(len(r_grid))]\n",
    "x_polar = np.asarray(x_polar).reshape((1,len(r_grid)*len(r_grid)))\n",
    "y_polar = [y_center[center_index] + r_grid[j]*np.sin(phi_grid) \\\n",
    "            for j in range(len(r_grid))]\n",
    "y_polar = np.asarray(y_polar).reshape((1,len(r_grid)*len(r_grid)))"
   ]
  },
  {
   "cell_type": "markdown",
   "metadata": {},
   "source": [
    "Now the actual interpolation can be done. This is relatively slow when using the whole data set so extracting the regions of interest is important."
   ]
  },
  {
   "cell_type": "code",
   "execution_count": null,
   "metadata": {},
   "outputs": [],
   "source": [
    "values = var_da.values[lev_index]\n",
    "\n",
    "lonlat_points = np.asarray([var_da.clon.values[:], var_da.clat.values[:]]).transpose()\n",
    "polar_points = np.asarray([x_polar, y_polar]).reshape((2,len(x_polar[0]))).transpose()\n",
    "\n",
    "# remap variables for circles with constant radius around center\n",
    "var_remap = griddata(lonlat_points, values, polar_points, method='cubic')\n",
    "var_remap = var_remap.reshape((len(r_grid),len(phi_grid)))\n",
    "\n",
    "# Add polar coordinates as dimensions\n",
    "var_polar_da = xr.DataArray(var_remap, coords={ 'r':('r',r_grid), \\\n",
    "                    'phi':('phi', phi_grid), 'x': x_grid , 'y': y_grid }, \\\n",
    "                    dims={'r': r_grid, 'phi':phi_grid })\n",
    "var_polar_da = var_polar_da.fillna(0.)\n"
   ]
  },
  {
   "cell_type": "markdown",
   "metadata": {},
   "source": [
    "### 2. Discrete Fourier transformation  \n",
    "In the following steps the Fourier modes can be extracted for the given variable on the given level."
   ]
  },
  {
   "cell_type": "code",
   "execution_count": null,
   "metadata": {},
   "outputs": [],
   "source": [
    "# All modes\n",
    "fvar = polar_dft(var_polar_da, polar_dim='phi')\n",
    "fvar_i = polar_idft(fvar, polar_dim='phi')\n",
    "\n",
    "# Select specific modes\n",
    "# 0\n",
    "fvar0 = fvar.copy()\n",
    "fvar0[1:] = 0.\n",
    "fvar0_i = polar_idft(fvar0)\n",
    "\n",
    "# 1\n",
    "fvar1 = fvar.copy()\n",
    "fvar1[0] = 0.\n",
    "fvar1[2:] = 0.\n",
    "fvar1_i = polar_idft(fvar1)\n",
    "\n",
    "# -1\n",
    "fvar_neg1 = fvar.copy()\n",
    "fvar_neg1[0:-1] = 0.\n",
    "fvar_neg1_i = polar_idft(fvar_neg1)\n",
    "\n"
   ]
  },
  {
   "cell_type": "code",
   "execution_count": null,
   "metadata": {},
   "outputs": [],
   "source": [
    "fig = plt.figure()\n",
    "ax = fig.add_subplot(111)\n",
    "cs = ax.pcolor(fvar_i.x, fvar_i.y, xr.ufuncs.real(fvar_i))\n",
    "ax.title.set_text('U_phi (%s m)' %  np.int(lev_height))\n",
    "cbar = plt.colorbar(cs, ax=ax)\n",
    "cbar.ax.set_ylabel('m s^-1')\n",
    "#plt.show()"
   ]
  },
  {
   "cell_type": "code",
   "execution_count": null,
   "metadata": {},
   "outputs": [],
   "source": [
    "fig = plt.figure(figsize=(9,3))\n",
    "ax = fig.add_subplot(131)\n",
    "cs = ax.pcolor(fvar_i.x, fvar_i.y, xr.ufuncs.real(fvar_neg1_i))\n",
    "ax.title.set_text('U_phi F mode -1 (%s m)' %  np.int(lev_height))\n",
    "cbar = plt.colorbar(cs, ax=ax)\n",
    "\n",
    "ax = fig.add_subplot(132)\n",
    "ax.axes.get_yaxis().set_visible(False)\n",
    "cs = ax.pcolor(fvar0_i.x, fvar0_i.y, xr.ufuncs.real(fvar0_i))\n",
    "#cs = ax.pcolor(fvar0_i.x, fvar0_i.y, xr.ufuncs.real(fvar_p4_i))\n",
    "ax.title.set_text('Fourier mode 0')\n",
    "cbar = plt.colorbar(cs, ax=ax)\n",
    "\n",
    "ax = fig.add_subplot(133)\n",
    "ax.axes.get_yaxis().set_visible(False)\n",
    "cs = ax.pcolor(fvar1_i.x, fvar1_i.y, xr.ufuncs.real(fvar1_i))\n",
    "ax.title.set_text('Fourier mode 1')\n",
    "cbar = plt.colorbar(cs, ax=ax)\n",
    "cbar.ax.set_ylabel('m s^-1')\n"
   ]
  }
 ],
 "metadata": {
  "kernelspec": {
   "display_name": "Python 3",
   "language": "python",
   "name": "python3"
  },
  "language_info": {
   "codemirror_mode": {
    "name": "ipython",
    "version": 3
   },
   "file_extension": ".py",
   "mimetype": "text/x-python",
   "name": "python",
   "nbconvert_exporter": "python",
   "pygments_lexer": "ipython3",
   "version": "3.7.3"
  }
 },
 "nbformat": 4,
 "nbformat_minor": 2
}
